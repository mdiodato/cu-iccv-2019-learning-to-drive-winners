{
  "nbformat": 4,
  "nbformat_minor": 0,
  "metadata": {
    "colab": {
      "name": "ensemble3.ipynb",
      "provenance": [],
      "collapsed_sections": []
    },
    "kernelspec": {
      "name": "python3",
      "display_name": "Python 3"
    }
  },
  "cells": [
    {
      "cell_type": "code",
      "metadata": {
        "id": "JtvHQfz0RKmi",
        "colab_type": "code",
        "colab": {}
      },
      "source": [
        "import pandas as pd\n",
        "import numpy as np\n",
        "\n",
        "# load training data\n",
        "df = pd.read_csv('train_full.csv', usecols=['canSteering', 'canSpeed'])\n",
        "steer_min = df['canSteering'].min()\n",
        "steer_max = df['canSteering'].max()\n",
        "speed_min = df['canSpeed'].min()\n",
        "speed_max = df['canSpeed'].max()"
      ],
      "execution_count": 0,
      "outputs": []
    },
    {
      "cell_type": "code",
      "metadata": {
        "id": "sKiAw3xbRMIb",
        "colab_type": "code",
        "colab": {}
      },
      "source": [
        "steer_counts, steer_edges = np.histogramdd(df['canSteering'].to_numpy(), bins=100)\n",
        "speed_counts, speed_edges = np.histogramdd(df['canSpeed'].to_numpy(), bins=30) \n",
        "steer_edges = steer_edges[0]\n",
        "speed_edges = speed_edges[0]"
      ],
      "execution_count": 0,
      "outputs": []
    },
    {
      "cell_type": "code",
      "metadata": {
        "id": "47qRbEpoTwpP",
        "colab_type": "code",
        "colab": {}
      },
      "source": [
        "# load submission files\n",
        "num_rows = 279863\n",
        "ensemble_submission = {\n",
        "    'canSteering': [], \n",
        "    'canSpeed': []\n",
        "}\n",
        "\n",
        "# ensemble angle\n",
        "steer_submission_filenames = ['submission Version 21 - Epoch 0.csv',\n",
        "                              'submission Version 20 - Epoch 0.csv',\n",
        "                              'submission Version 19 - Epoch 0.csv']\n",
        "num_steer_submissions = len(steer_submission_filenames)\n",
        "steer_submissions = np.zeros((num_steer_submissions, num_rows))\n",
        "submission_steer_counts = np.zeros((num_steer_submissions, num_rows))\n",
        "for i in range(num_steer_submissions):\n",
        "    df_submission = pd.read_csv(steer_submission_filenames[i], usecols=['canSteering'])\n",
        "    assert len(df_submission)== num_rows\n",
        "    values = df_submission.to_numpy().squeeze()\n",
        "    steer_submissions[i] = values\n",
        "    values = np.clip(values, steer_min + 1e-10, steer_max - 1e-10)\n",
        "    indices = np.zeros(values.shape)\n",
        "    indices = np.digitize(values, steer_edges) - 1\n",
        "    indices = indices.astype(int)\n",
        "    for j in range(num_rows):\n",
        "        submission_steer_counts[i, j] = steer_counts[indices[j]]\n",
        "\n",
        "# ensemble speed\n",
        "speed_submission_filenames = ['submission Version 21 - Epoch 0.csv',\n",
        "                              'submission Version 20 - Epoch 0.csv',\n",
        "                              'submission Version 19 - Epoch 0.csv',\n",
        "                              'submission Version 18 - Epoch 0.csv',\n",
        "                              'submission Version 17 - Epoch 1.csv']\n",
        "num_speed_submissions = len(speed_submission_filenames)\n",
        "speed_submissions = np.zeros((num_speed_submissions, num_rows))\n",
        "submission_speed_counts = np.zeros((num_speed_submissions, num_rows))\n",
        "for i in range(num_speed_submissions):\n",
        "    df_submission = pd.read_csv(speed_submission_filenames[i], usecols=['canSpeed'])\n",
        "    assert len(df_submission)== num_rows\n",
        "    values = df_submission.to_numpy().squeeze()\n",
        "    speed_submissions[i] = values\n",
        "    values = np.clip(values, speed_min + 1e-10, speed_max - 1e-10)\n",
        "    indices = np.zeros(values.shape)\n",
        "    indices = np.digitize(values, speed_edges) - 1\n",
        "    indices = indices.astype(int)\n",
        "    for j in range(num_rows):\n",
        "        submission_speed_counts[i, j] = speed_counts[indices[j]]\n",
        "\n",
        "# select the most likely submission for each row\n",
        "for j in range(num_rows):\n",
        "    steer_counts_j = submission_steer_counts[:, j]\n",
        "    steer_j = steer_submissions[:, j]\n",
        "    canSteering = np.dot(steer_counts_j, steer_j) / steer_counts_j.sum()\n",
        "    speed_counts_j = submission_speed_counts[:, j]\n",
        "    speed_j = speed_submissions[:, j]\n",
        "    canSpeed = np.dot(speed_counts_j, speed_j) / speed_counts_j.sum()\n",
        "    ensemble_submission['canSteering'].append(canSteering)\n",
        "    ensemble_submission['canSpeed'].append(canSpeed)\n"
      ],
      "execution_count": 0,
      "outputs": []
    },
    {
      "cell_type": "code",
      "metadata": {
        "id": "jdu8Jwq93tLo",
        "colab_type": "code",
        "colab": {}
      },
      "source": [
        "from scipy.signal import savgol_filter\n",
        "\n",
        "# Window should be the max odd number <= num_data_points and cannot exceed max_window\n",
        "def get_window(num_data_points, max_window):\n",
        "    assert max_window % 2 == 1\n",
        "    return min(max_window, (num_data_points - 1) // 2 * 2 + 1)\n",
        "\n",
        "def knn_online_smooth(speed):\n",
        "    smoothed = np.zeros(len(speed))\n",
        "    for i in range(len(smoothed)):\n",
        "        num_data_points = i + 1\n",
        "        max_window = 5\n",
        "        window = get_window(num_data_points, max_window)\n",
        "        future_window = window // 2\n",
        "        past_window = window - future_window\n",
        "        start = max(0, num_data_points - past_window)\n",
        "        smoothed[i] = speed[i]\n",
        "        history = speed[start:num_data_points]\n",
        "        for _ in range(future_window):\n",
        "            history.append(history[-1])\n",
        "        smoothed[i] = np.mean(history)\n",
        "    return smoothed\n"
      ],
      "execution_count": 0,
      "outputs": []
    },
    {
      "cell_type": "code",
      "metadata": {
        "id": "rZ1xd5s9Gv6t",
        "colab_type": "code",
        "outputId": "9c65041c-a3fd-4cdb-a568-0f3f18d3ca4f",
        "colab": {
          "base_uri": "https://localhost:8080/",
          "height": 286
        }
      },
      "source": [
        "import matplotlib.pyplot as plt\n",
        "fig, ax = plt.subplots(figsize=(7, 4))\n",
        "ax.plot(ensemble_submission['canSpeed'][700:800], 'r.', label= 'Unsmoothed')\n",
        "ax.plot(knn_online_smooth(ensemble_submission['canSpeed'])[700:800], 'g--', label=\"kNN smoothed\")\n",
        "ax.plot(savgol_filter(ensemble_submission['canSpeed'], 51, 2)[700:800], 'b--', label=\"savgol filter (ideal)\")\n",
        "plt.legend(loc='best')"
      ],
      "execution_count": 0,
      "outputs": [
        {
          "output_type": "execute_result",
          "data": {
            "text/plain": [
              "<matplotlib.legend.Legend at 0x7f78bd097550>"
            ]
          },
          "metadata": {
            "tags": []
          },
          "execution_count": 28
        },
        {
          "output_type": "display_data",
          "data": {
            "image/png": "[encoded data removed]",
            "text/plain": [
              "<Figure size 504x288 with 1 Axes>"
            ]
          },
          "metadata": {
            "tags": []
          }
        }
      ]
    },
    {
      "cell_type": "code",
      "metadata": {
        "id": "3ehhRmKZj7yC",
        "colab_type": "code",
        "colab": {}
      },
      "source": [
        "ensemble_submission['canSpeed'] = list(knn_online_smooth(ensemble_submission['canSpeed']))"
      ],
      "execution_count": 0,
      "outputs": []
    },
    {
      "cell_type": "code",
      "metadata": {
        "id": "Q3-B4pD_bSpe",
        "colab_type": "code",
        "colab": {}
      },
      "source": [
        "df_full_submission = pd.DataFrame.from_dict(ensemble_submission)\n",
        "df_full_submission.to_csv('ensemble_submission.csv', index=False)"
      ],
      "execution_count": 0,
      "outputs": []
    }
  ]
}